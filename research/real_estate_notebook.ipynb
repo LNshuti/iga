{
 "cells": [
  {
   "attachments": {},
   "cell_type": "markdown",
   "metadata": {},
   "source": [
    "# Project Introduction\n",
    "\n",
    "In this project, we leverage Snowpark with Python for data analysis, visualization, and Scikit-Learn for machine learning, forming a comprehensive solution to our task at hand. We aim to utilize rental listings data to train a machine learning model, enabling us to accurately estimate the rental price for our sale listings.\n"
   ]
  },
  {
   "cell_type": "code",
   "execution_count": 4,
   "metadata": {},
   "outputs": [
    {
     "name": "stdout",
     "output_type": "stream",
     "text": [
      "Requirement already satisfied: scikit-learn in /Users/lnshuti/anaconda3/envs/greai/lib/python3.10/site-packages (1.2.2)\n",
      "Requirement already satisfied: pandas in /Users/lnshuti/anaconda3/envs/greai/lib/python3.10/site-packages (1.5.3)\n",
      "Requirement already satisfied: xgboost in /Users/lnshuti/anaconda3/envs/greai/lib/python3.10/site-packages (1.7.6)\n",
      "Requirement already satisfied: matplotlib in /Users/lnshuti/anaconda3/envs/greai/lib/python3.10/site-packages (3.7.1)\n",
      "Requirement already satisfied: snowflake-snowpark-python in /Users/lnshuti/anaconda3/envs/greai/lib/python3.10/site-packages (1.5.1)\n",
      "Requirement already satisfied: numpy>=1.17.3 in /Users/lnshuti/anaconda3/envs/greai/lib/python3.10/site-packages (from scikit-learn) (1.23.5)\n",
      "Requirement already satisfied: scipy>=1.3.2 in /Users/lnshuti/anaconda3/envs/greai/lib/python3.10/site-packages (from scikit-learn) (1.10.1)\n",
      "Requirement already satisfied: joblib>=1.1.1 in /Users/lnshuti/anaconda3/envs/greai/lib/python3.10/site-packages (from scikit-learn) (1.2.0)\n",
      "Requirement already satisfied: threadpoolctl>=2.0.0 in /Users/lnshuti/anaconda3/envs/greai/lib/python3.10/site-packages (from scikit-learn) (3.1.0)\n",
      "Requirement already satisfied: python-dateutil>=2.8.1 in /Users/lnshuti/anaconda3/envs/greai/lib/python3.10/site-packages (from pandas) (2.8.2)\n",
      "Requirement already satisfied: pytz>=2020.1 in /Users/lnshuti/anaconda3/envs/greai/lib/python3.10/site-packages (from pandas) (2023.3)\n",
      "Requirement already satisfied: contourpy>=1.0.1 in /Users/lnshuti/anaconda3/envs/greai/lib/python3.10/site-packages (from matplotlib) (1.0.7)\n",
      "Requirement already satisfied: cycler>=0.10 in /Users/lnshuti/anaconda3/envs/greai/lib/python3.10/site-packages (from matplotlib) (0.11.0)\n",
      "Requirement already satisfied: fonttools>=4.22.0 in /Users/lnshuti/anaconda3/envs/greai/lib/python3.10/site-packages (from matplotlib) (4.39.4)\n",
      "Requirement already satisfied: kiwisolver>=1.0.1 in /Users/lnshuti/anaconda3/envs/greai/lib/python3.10/site-packages (from matplotlib) (1.4.4)\n",
      "Requirement already satisfied: packaging>=20.0 in /Users/lnshuti/anaconda3/envs/greai/lib/python3.10/site-packages (from matplotlib) (23.1)\n",
      "Requirement already satisfied: pillow>=6.2.0 in /Users/lnshuti/anaconda3/envs/greai/lib/python3.10/site-packages (from matplotlib) (9.5.0)\n",
      "Requirement already satisfied: pyparsing>=2.3.1 in /Users/lnshuti/anaconda3/envs/greai/lib/python3.10/site-packages (from matplotlib) (3.0.9)\n",
      "Requirement already satisfied: setuptools>=40.6.0 in /Users/lnshuti/anaconda3/envs/greai/lib/python3.10/site-packages (from snowflake-snowpark-python) (65.5.1)\n",
      "Requirement already satisfied: wheel in /Users/lnshuti/anaconda3/envs/greai/lib/python3.10/site-packages (from snowflake-snowpark-python) (0.40.0)\n",
      "Requirement already satisfied: cloudpickle<=2.0.0,>=1.6.0 in /Users/lnshuti/anaconda3/envs/greai/lib/python3.10/site-packages (from snowflake-snowpark-python) (2.0.0)\n",
      "Requirement already satisfied: snowflake-connector-python<4.0.0,>=2.7.12 in /Users/lnshuti/anaconda3/envs/greai/lib/python3.10/site-packages (from snowflake-snowpark-python) (3.0.4)\n",
      "Requirement already satisfied: typing-extensions<5.0.0,>=4.1.0 in /Users/lnshuti/anaconda3/envs/greai/lib/python3.10/site-packages (from snowflake-snowpark-python) (4.6.3)\n",
      "Requirement already satisfied: six>=1.5 in /Users/lnshuti/anaconda3/envs/greai/lib/python3.10/site-packages (from python-dateutil>=2.8.1->pandas) (1.12.0)\n",
      "Requirement already satisfied: asn1crypto<2.0.0,>0.24.0 in /Users/lnshuti/anaconda3/envs/greai/lib/python3.10/site-packages (from snowflake-connector-python<4.0.0,>=2.7.12->snowflake-snowpark-python) (1.5.1)\n",
      "Requirement already satisfied: cffi<2.0.0,>=1.9 in /Users/lnshuti/anaconda3/envs/greai/lib/python3.10/site-packages (from snowflake-connector-python<4.0.0,>=2.7.12->snowflake-snowpark-python) (1.15.1)\n",
      "Requirement already satisfied: cryptography<41.0.0,>=3.1.0 in /Users/lnshuti/anaconda3/envs/greai/lib/python3.10/site-packages (from snowflake-connector-python<4.0.0,>=2.7.12->snowflake-snowpark-python) (40.0.2)\n",
      "Requirement already satisfied: oscrypto<2.0.0 in /Users/lnshuti/anaconda3/envs/greai/lib/python3.10/site-packages (from snowflake-connector-python<4.0.0,>=2.7.12->snowflake-snowpark-python) (1.3.0)\n",
      "Requirement already satisfied: pyOpenSSL<24.0.0,>=16.2.0 in /Users/lnshuti/anaconda3/envs/greai/lib/python3.10/site-packages (from snowflake-connector-python<4.0.0,>=2.7.12->snowflake-snowpark-python) (23.2.0)\n",
      "Requirement already satisfied: pycryptodomex!=3.5.0,<4.0.0,>=3.2 in /Users/lnshuti/anaconda3/envs/greai/lib/python3.10/site-packages (from snowflake-connector-python<4.0.0,>=2.7.12->snowflake-snowpark-python) (3.18.0)\n",
      "Requirement already satisfied: pyjwt<3.0.0 in /Users/lnshuti/anaconda3/envs/greai/lib/python3.10/site-packages (from snowflake-connector-python<4.0.0,>=2.7.12->snowflake-snowpark-python) (2.7.0)\n",
      "Requirement already satisfied: requests<3.0.0 in /Users/lnshuti/anaconda3/envs/greai/lib/python3.10/site-packages (from snowflake-connector-python<4.0.0,>=2.7.12->snowflake-snowpark-python) (2.28.2)\n",
      "Requirement already satisfied: charset-normalizer<4,>=2 in /Users/lnshuti/anaconda3/envs/greai/lib/python3.10/site-packages (from snowflake-connector-python<4.0.0,>=2.7.12->snowflake-snowpark-python) (3.1.0)\n",
      "Requirement already satisfied: idna<4,>=2.5 in /Users/lnshuti/anaconda3/envs/greai/lib/python3.10/site-packages (from snowflake-connector-python<4.0.0,>=2.7.12->snowflake-snowpark-python) (3.4)\n",
      "Requirement already satisfied: urllib3<1.27,>=1.21.1 in /Users/lnshuti/anaconda3/envs/greai/lib/python3.10/site-packages (from snowflake-connector-python<4.0.0,>=2.7.12->snowflake-snowpark-python) (1.26.16)\n",
      "Requirement already satisfied: certifi>=2017.4.17 in /Users/lnshuti/anaconda3/envs/greai/lib/python3.10/site-packages (from snowflake-connector-python<4.0.0,>=2.7.12->snowflake-snowpark-python) (2023.5.7)\n",
      "Requirement already satisfied: filelock<4,>=3.5 in /Users/lnshuti/anaconda3/envs/greai/lib/python3.10/site-packages (from snowflake-connector-python<4.0.0,>=2.7.12->snowflake-snowpark-python) (3.12.0)\n",
      "Requirement already satisfied: sortedcontainers>=2.4.0 in /Users/lnshuti/anaconda3/envs/greai/lib/python3.10/site-packages (from snowflake-connector-python<4.0.0,>=2.7.12->snowflake-snowpark-python) (2.4.0)\n",
      "Collecting pyarrow<10.1.0,>=10.0.1 (from snowflake-connector-python<4.0.0,>=2.7.12->snowflake-snowpark-python)\n",
      "  Downloading pyarrow-10.0.1-cp310-cp310-macosx_11_0_arm64.whl (23.0 MB)\n",
      "\u001b[2K     \u001b[91m━━━━━\u001b[0m\u001b[90m╺\u001b[0m\u001b[90m━━━━━━━━━━━━━━━━━━━━━━━━━━━━━━━━━━\u001b[0m \u001b[32m3.2/23.0 MB\u001b[0m \u001b[31m6.3 MB/s\u001b[0m eta \u001b[36m0:00:04\u001b[0m"
     ]
    }
   ],
   "source": [
    "%pip install scikit-learn pandas xgboost matplotlib snowflake-snowpark-python \"snowflake-snowpark-python[pandas]\""
   ]
  },
  {
   "cell_type": "code",
   "execution_count": 3,
   "metadata": {},
   "outputs": [
    {
     "ename": "ModuleNotFoundError",
     "evalue": "No module named 'snowflake.snowpark'; 'snowflake' is not a package",
     "output_type": "error",
     "traceback": [
      "\u001b[0;31m---------------------------------------------------------------------------\u001b[0m",
      "\u001b[0;31mModuleNotFoundError\u001b[0m                       Traceback (most recent call last)",
      "Cell \u001b[0;32mIn[3], line 5\u001b[0m\n\u001b[1;32m      1\u001b[0m \u001b[39m# Snowpark\u001b[39;00m\n\u001b[1;32m      2\u001b[0m \u001b[39m# Print the version of Snowpark we are using\u001b[39;00m\n\u001b[1;32m      3\u001b[0m \u001b[39mfrom\u001b[39;00m \u001b[39mimportlib\u001b[39;00m\u001b[39m.\u001b[39;00m\u001b[39mmetadata\u001b[39;00m \u001b[39mimport\u001b[39;00m version\n\u001b[0;32m----> 5\u001b[0m \u001b[39mfrom\u001b[39;00m \u001b[39msnowflake\u001b[39;00m\u001b[39m.\u001b[39;00m\u001b[39msnowpark\u001b[39;00m \u001b[39mimport\u001b[39;00m Session\n\u001b[1;32m      6\u001b[0m \u001b[39mfrom\u001b[39;00m \u001b[39msnowflake\u001b[39;00m\u001b[39m.\u001b[39;00m\u001b[39msnowpark\u001b[39;00m\u001b[39m.\u001b[39;00m\u001b[39mfunctions\u001b[39;00m \u001b[39mimport\u001b[39;00m \u001b[39m*\u001b[39m\n\u001b[1;32m      7\u001b[0m \u001b[39mfrom\u001b[39;00m \u001b[39msnowflake\u001b[39;00m\u001b[39m.\u001b[39;00m\u001b[39msnowpark\u001b[39;00m\u001b[39m.\u001b[39;00m\u001b[39mtypes\u001b[39;00m \u001b[39mimport\u001b[39;00m \u001b[39m*\u001b[39m\n",
      "\u001b[0;31mModuleNotFoundError\u001b[0m: No module named 'snowflake.snowpark'; 'snowflake' is not a package"
     ]
    }
   ],
   "source": [
    "# Snowpark\n",
    "# Print the version of Snowpark we are using\n",
    "from importlib.metadata import version\n",
    "\n",
    "from snowflake.snowpark import Session\n",
    "from snowflake.snowpark.functions import *\n",
    "from snowflake.snowpark.types import *\n",
    "\n",
    "version('snowflake_snowpark_python')"
   ]
  }
 ],
 "metadata": {
  "kernelspec": {
   "display_name": "greai",
   "language": "python",
   "name": "python3"
  },
  "language_info": {
   "codemirror_mode": {
    "name": "ipython",
    "version": 3
   },
   "file_extension": ".py",
   "mimetype": "text/x-python",
   "name": "python",
   "nbconvert_exporter": "python",
   "pygments_lexer": "ipython3",
   "version": "3.10.11"
  },
  "orig_nbformat": 4
 },
 "nbformat": 4,
 "nbformat_minor": 2
}
