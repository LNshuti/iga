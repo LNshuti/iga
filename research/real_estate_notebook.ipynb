{
 "cells": [
  {
   "attachments": {},
   "cell_type": "markdown",
   "metadata": {},
   "source": [
    "# Project Introduction\n",
    "\n",
    "In this project, we leverage Snowpark with Python for data analysis, visualization, and Scikit-Learn for machine learning, forming a comprehensive solution to our task at hand. We aim to utilize rental listings data to train a machine learning model, enabling us to accurately estimate the rental price for our sale listings.\n"
   ]
  },
  {
   "cell_type": "code",
   "execution_count": null,
   "metadata": {
    "vscode": {
     "languageId": "plaintext"
    }
   },
   "outputs": [],
   "source": []
  }
 ],
 "metadata": {
  "language_info": {
   "name": "python"
  },
  "orig_nbformat": 4
 },
 "nbformat": 4,
 "nbformat_minor": 2
}
