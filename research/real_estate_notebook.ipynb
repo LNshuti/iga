{
 "cells": [
  {
   "cell_type": "code",
   "execution_count": 1,
   "metadata": {},
   "outputs": [
    {
     "name": "stdout",
     "output_type": "stream",
     "text": [
      "C[:5] = [2. 2. 2. 2. 2.]\n",
      "C[-5:] = [2. 2. 2. 2. 2.]\n",
      "VectorAdd took 5.462767 seconds\n"
     ]
    }
   ],
   "source": [
    "import numpy as np\n",
    "from timeit import default_timer as timer\n",
    "from numbapro import vectorize\n",
    "\n",
    "@vectorize(['float32(float32, float32)'], target='gpu')\n",
    "def vectorAdd(a, b):\n",
    "    c = np.zeros(a.shape[0])\n",
    "    for i in range(a.shape[0]):\n",
    "        c[i] = a[i] + b[i]\n",
    "    return c\n",
    "\n",
    "\n",
    "def main():\n",
    "    N = 32000000\n",
    "    A = np.ones(N, dtype=np.float32)\n",
    "    B = np.ones(N, dtype=np.float32)\n",
    "    C = np.zeros(N, dtype=np.float32)\n",
    "\n",
    "    start = timer()\n",
    "    C = vectorAdd(A, B)\n",
    "    vector_add_time = timer() - start\n",
    "\n",
    "    print(\"C[:5] = \" + str(C[:5]))\n",
    "    print(\"C[-5:] = \" + str(C[-5:]))\n",
    "\n",
    "    print(\"VectorAdd took %f seconds\" % vector_add_time)\n",
    "\n",
    "if __name__ == '__main__':\n",
    "    main()"
   ]
  },
  {
   "cell_type": "code",
   "execution_count": null,
   "metadata": {},
   "outputs": [],
   "source": [
    "# Accelerated with numberpros \n"
   ]
  },
  {
   "cell_type": "code",
   "execution_count": null,
   "metadata": {},
   "outputs": [],
   "source": [
    "with open('creds.json') as f:\n",
    "    connection_parameters = json.load(f)    "
   ]
  }
 ],
 "metadata": {
  "kernelspec": {
   "display_name": "greai",
   "language": "python",
   "name": "python3"
  },
  "language_info": {
   "codemirror_mode": {
    "name": "ipython",
    "version": 3
   },
   "file_extension": ".py",
   "mimetype": "text/x-python",
   "name": "python",
   "nbconvert_exporter": "python",
   "pygments_lexer": "ipython3",
   "version": "3.10.11"
  },
  "orig_nbformat": 4
 },
 "nbformat": 4,
 "nbformat_minor": 2
}
